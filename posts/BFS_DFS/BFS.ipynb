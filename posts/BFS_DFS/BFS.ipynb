{
 "cells": [
  {
   "cell_type": "raw",
   "id": "ff4a785f-6879-4ab8-b51b-aa118b3e126a",
   "metadata": {},
   "source": [
    "---\n",
    "title: \"Algorithm Depth-First Search (DFS) AND Breadth-First Search (BFS)\"\n",
    "author: \"Marco Aguirre\"\n",
    "date: \"2023-08-6\"\n",
    "categories: [news, code, algorithms, Python]\n",
    "image: \"portada.png\"\n",
    "bibliography: bibliography.bib\n",
    "format:\n",
    "  html:\n",
    "    toc: true\n",
    "    code-tools: true\n",
    "jupyter: python3\n",
    "---"
   ]
  },
  {
   "cell_type": "markdown",
   "id": "b516f36b-1222-4021-aa18-914b8a839afa",
   "metadata": {},
   "source": [
    "## 1. Objectives\n",
    "\n",
    "- Implement the BFS (Breadth-First Search) and DFS (Depth-First Search) algorithms in Python.\n",
    "- Verify that BFS calculates the path with the fewest edges between two vertices of the graph.\n",
    "- Verify that DFS allows finding all vertices accessible from a source vertex of the graph.\n",
    "\n",
    "## 2. Introduction\n",
    "\n",
    "BFS is a way to find all vertices accessible from a source vertex of a graph. The search resembles a wave that hits all vertices starting from node 1 (beginning). The FIFO queue Q is used to maintain the wavefront, and control is kept over nodes already included in the wave to prevent them from being revisited. BFS allows obtaining the shortest path from the source node to the other connected nodes. The efficiency of BFS is O(number of vertices + number of edges), commonly written as O(V + E) (V for the number of vertices, E for the number of edges). BFS is used to solve the following problems:\n",
    "\n",
    "- Testing if a graph is connected.\n",
    "- Calculating the spanning forest of the graph.\n",
    "- Calculating for each vertex in the graph, a path with the minimum number of edges between the initial vertex and the current vertex or informing that no such path exists.\n",
    "\n",
    "DFS (Depth-First Search) is a systematic way of finding all vertices accessible from a source vertex. Like breadth-first search, DFS traverses a connected component of a given graph and defines a spanning tree. The basic idea of depth-first search is the following: it systematically explores each edge. We start over from different vertices as needed. As soon as we discover a vertex, DFS starts exploring from it (unlike BFS, which places a vertex in a queue to explore later), only backtracking when necessary [@muniswamy2013design]. DFS is used to solve the following problems:\n",
    "\n",
    "- Testing if the graph is connected.\n",
    "- Calculating the spanning forest of the graph.\n",
    "- Calculating a path between two vertices of the graph or informing that no such path exists.\n",
    "- Calculating a cycle in the graph or informing that no such cycle exists.\n"
   ]
  },
  {
   "cell_type": "markdown",
   "id": "c6c6d1b7-8ae5-43e3-b1a8-23036f9101fb",
   "metadata": {},
   "source": [
    "## 3. Exercise 1\n",
    "\n",
    "### A. Problem Statement\n",
    "\n",
    "Implement the BFS algorithm to answer the following questions:\n",
    "1. Is there a path from CAB to BAT?\n",
    "2. What is that path?\n"
   ]
  },
  {
   "cell_type": "markdown",
   "id": "df137a7e-4c3f-4adb-b7c4-f5d0b797f033",
   "metadata": {},
   "source": [
    "```{mermaid}\n",
    "graph TD\n",
    "    CAB  --> CAT \n",
    "    CAB  --> CAR\n",
    "    CAR --> CAT\n",
    "    CAR --> BAR\n",
    "    CAT --> MAT\n",
    "    CAT --> BAT\n",
    "    MAT --> BAT\n",
    "    BAR --> MAT\n",
    "\n",
    "```"
   ]
  },
  {
   "cell_type": "markdown",
   "id": "9e852f2b-bbe9-4023-9454-df14d642301e",
   "metadata": {},
   "source": [
    "### B. Implementation in Python\n",
    "\n",
    "To implement the BFS algorithm in Python, a queue is used to enqueue the neighbor nodes of each source node. In the BFS function, two dictionaries are created: one called `marked` to mark nodes that have already been enqueued, and `edgeto` to assign each node its preceding node.\n"
   ]
  },
  {
   "cell_type": "code",
   "execution_count": 1,
   "id": "345b60fe-2d53-4c36-84b0-2e72ea7b8885",
   "metadata": {},
   "outputs": [],
   "source": [
    "from collections import deque\n",
    "\n",
    "def busqueda_BFS(name,graph):\n",
    "    \"\"\"\n",
    "    busqueda_BFS Search Algorithm\n",
    "\n",
    "    Args:\n",
    "        start (str): The starting node.\n",
    "        graph (dict): The graph represented as an adjacency list.\n",
    "\n",
    "    Returns:\n",
    "        edgeto (dict): A dictionary containing the parent nodes of the connected component.\n",
    "    \"\"\"\n",
    "    ##############ESTRUCTURAS AUXILIARES \n",
    "    marked= dict.fromkeys(graph.keys(),False)\n",
    "    marked[name]=True\n",
    "    edgeto={name:\"inicio\"}\n",
    "    edgeto.update(dict.fromkeys(graph[name],name))\n",
    "    marked.update(dict.fromkeys(graph[name],True))\n",
    "    ##############ESTRUCTURAS AUXILIARES \n",
    "    search_queue = deque()\n",
    "    search_queue += graph[name] \n",
    "    searched = [] \n",
    "    while search_queue:\n",
    "        person = search_queue.popleft() \n",
    "        if not person in searched: \n",
    "            comprueba=[ nodo  for nodo in graph[person] if marked[nodo]==False ]\n",
    "            edgeto.update(dict.fromkeys(comprueba,person))\n",
    "            marked.update(dict.fromkeys(comprueba,True))\n",
    "            search_queue += graph[person] \n",
    "            searched.append(person)\n",
    "    return edgeto\n",
    "\n",
    "def ruta(busqueda,edgeto):\n",
    "    \"\"\" Retorna ruta del componente conectado nodo inico\n",
    "        Args:\n",
    "            edgeto :(dict) diccionario que estan los nodos padres del componete conectado\n",
    "            busqueda :(str) nodo buscar\n",
    "        return:\n",
    "            ruta list() : lista que contiene la ruta\n",
    "    \"\"\"\n",
    "    ruta=[]\n",
    "    if (busqueda in edgeto.keys()):\n",
    "        while busqueda !=\"inicio\":\n",
    "            ruta.insert(0,busqueda)\n",
    "            busqueda=edgeto[busqueda]   \n",
    "    return ruta"
   ]
  },
  {
   "cell_type": "markdown",
   "id": "c79208c0-d85e-4baf-a59c-8f08aa7a114c",
   "metadata": {},
   "source": [
    "### C. Execution of the Algorithm\n",
    "\n",
    "- The graph is constructed using a Python dictionary where the key is the node, and the value is a list of the node's neighbors. Note that the graph to be analyzed (Illustration) is directed, so only the target neighbors should be included.\n"
   ]
  },
  {
   "cell_type": "code",
   "execution_count": 2,
   "id": "647a8071-6d9b-4fd0-9122-9371a15aa863",
   "metadata": {},
   "outputs": [],
   "source": [
    "graph = {}\n",
    "graph[\"CAB\"] = [\"CAT\", \"CAR\"]\n",
    "graph[\"CAR\"] = [\"CAT\", \"BAR\"]\n",
    "graph[\"CAT\"] = [\"MAT\",\"BAT\"]\n",
    "graph[\"MAT\"] = [\"BAT\"]\n",
    "graph[\"BAR\"] = [\"MAT\"]\n",
    "graph[\"BAT\"] = []"
   ]
  },
  {
   "cell_type": "code",
   "execution_count": 3,
   "id": "79459a80-cd6d-4568-b234-bfbee1f12327",
   "metadata": {},
   "outputs": [
    {
     "data": {
      "text/plain": [
       "{'CAB': 'inicio',\n",
       " 'CAT': 'CAB',\n",
       " 'CAR': 'CAB',\n",
       " 'MAT': 'CAT',\n",
       " 'BAT': 'CAT',\n",
       " 'BAR': 'CAR'}"
      ]
     },
     "execution_count": 3,
     "metadata": {},
     "output_type": "execute_result"
    }
   ],
   "source": [
    "edgeto=busqueda_BFS(\"CAB\",graph)\n",
    "edgeto"
   ]
  },
  {
   "cell_type": "code",
   "execution_count": 4,
   "id": "ad39bb92-d572-43ed-a84b-47188ddb78c0",
   "metadata": {},
   "outputs": [
    {
     "data": {
      "text/plain": [
       "['CAB', 'CAT', 'BAT']"
      ]
     },
     "execution_count": 4,
     "metadata": {},
     "output_type": "execute_result"
    }
   ],
   "source": [
    "ruta(\"BAT\",edgeto)"
   ]
  },
  {
   "cell_type": "markdown",
   "id": "2bb7d206-17a5-4fae-a6df-ce822add89de",
   "metadata": {},
   "source": [
    "```{mermaid}\n",
    "graph TD\n",
    "    CAB --> CAT\n",
    "    CAT --> BAT\n",
    "\n",
    "```"
   ]
  },
  {
   "cell_type": "code",
   "execution_count": 5,
   "id": "e23fc5a6-1caf-4c28-a5fa-01c65c54ca3d",
   "metadata": {},
   "outputs": [
    {
     "data": {
      "text/plain": [
       "{'CAB': ['CAB'],\n",
       " 'CAT': ['CAB', 'CAT'],\n",
       " 'CAR': ['CAB', 'CAR'],\n",
       " 'MAT': ['CAB', 'CAT', 'MAT'],\n",
       " 'BAT': ['CAB', 'CAT', 'BAT'],\n",
       " 'BAR': ['CAB', 'CAR', 'BAR']}"
      ]
     },
     "execution_count": 5,
     "metadata": {},
     "output_type": "execute_result"
    }
   ],
   "source": [
    "rutas={nodo:ruta(nodo,edgeto) for nodo in edgeto.keys()}\n",
    "rutas"
   ]
  },
  {
   "cell_type": "markdown",
   "id": "3980291a-9112-4684-b148-96a0abfd673e",
   "metadata": {},
   "source": [
    "```{mermaid}\n",
    "graph TD\n",
    "    CAB --> CAT\n",
    "    CAB --> CAR\n",
    "    CAT --> MAT\n",
    "    CAT --> BAT\n",
    "    CAR --> BAR\n",
    "```"
   ]
  },
  {
   "cell_type": "markdown",
   "id": "991e0a5b-1db7-4d6f-b09c-0673a30a7fdb",
   "metadata": {},
   "source": [
    "## 4. Exercise 2\n",
    "\n",
    "### D. Problem Statement\n",
    "\n",
    "What are the DFS Trees for the following graph G, given that the starting node is 0? Implement the DFS algorithm (using the recursive method) and use the necessary auxiliary structures.\n"
   ]
  },
  {
   "cell_type": "markdown",
   "id": "f8f0e9a6-1aa8-4911-88b9-f0bf64622966",
   "metadata": {},
   "source": [
    "```{mermaid}\n",
    "graph TD\n",
    "    0 <--> 2\n",
    "    0 <--> 1\n",
    "    0 <--> 5\n",
    "    1 <--> 2\n",
    "    2 <--> 3\n",
    "    2 <--> 4\n",
    "    3 <--> 5\n",
    "    3 <--> 4\n",
    "    6 <--> 7\n",
    "\n",
    "```"
   ]
  },
  {
   "cell_type": "code",
   "execution_count": 13,
   "id": "7d0da528-ed72-4bfc-9440-39eb7e678cde",
   "metadata": {},
   "outputs": [],
   "source": [
    "def dfs( graph, node,visited=set()):\n",
    "    \"\"\"algortimo dfs\n",
    "        Args:\n",
    "            graph :(dict) diccionario que representa grafo\n",
    "            node :(str) nodo fuente o raiz\n",
    "            visited:control nodos visitados default set()\n",
    "        return:\n",
    "            ruta list() : lista que contiene la ruta\n",
    "    \"\"\"\n",
    "    if node not in visited: ##comparacion si el nodo no se ha visitad\n",
    "        print (node)##impresion de nodos visitados\n",
    "        visited.add(node) ##agregando nodos visitados\n",
    "        marked[node]=True##control de nodos visitados\n",
    "        for neighbour in graph[node]:\n",
    "            comprueba=[ nodo  for nodo in graph[node] if marked[nodo]==False ]##comprovacion\n",
    "            edgeto.update(dict.fromkeys(comprueba,node))##llenado de edgeto\n",
    "            dfs(graph, neighbour,visited)"
   ]
  },
  {
   "cell_type": "code",
   "execution_count": 14,
   "id": "86da8c0a-8715-4ba5-9d8c-972031b85a52",
   "metadata": {},
   "outputs": [],
   "source": [
    "def ruta_DFS(busqueda,edgeto):\n",
    "    \"\"\" Retorna ruta del componente conectado nodo inico\n",
    "        Args:\n",
    "            edgeto :(dict) diccionario que estan los nodos padres del componete conectado\n",
    "            busqueda :(str) nodo buscar\n",
    "        return:\n",
    "            ruta list() : lista que contiene la ruta\n",
    "    \"\"\"\n",
    "    ruta=[]\n",
    "    while busqueda !=\"\":\n",
    "        ruta.insert(0,busqueda)\n",
    "        busqueda=edgeto[busqueda]\n",
    "    return ruta"
   ]
  },
  {
   "cell_type": "markdown",
   "id": "b0841de6-af20-4cb0-99b1-de8d4eed8998",
   "metadata": {},
   "source": [
    "### Execution of the Algorithm\n",
    "\n",
    "- Define the graph and the starting node 0 as input parameters."
   ]
  },
  {
   "cell_type": "code",
   "execution_count": 15,
   "id": "a5cfebfa-11da-4ff5-af47-a1fb34624782",
   "metadata": {},
   "outputs": [],
   "source": [
    "#graph\n",
    "graph = dict()\n",
    "graph[\"0\"] = [\"2\", \"1\",\"5\"]\n",
    "graph[\"1\"] = [\"0\", \"2\"]\n",
    "graph[\"2\"] = [\"0\",\"1\",\"3\",\"4\"]\n",
    "graph[\"3\"] = [\"5\",\"4\",\"2\"]\n",
    "graph[\"4\"] = [\"3\",\"2\"]\n",
    "graph[\"5\"] = [\"3\",\"0\"]\n",
    "marked= dict.fromkeys(graph.keys(),False)\n",
    "edgeto= dict.fromkeys(graph.keys(),\"\")"
   ]
  },
  {
   "cell_type": "markdown",
   "id": "3d975295-7e0c-41b7-bb7b-9e9f55cfecef",
   "metadata": {},
   "source": [
    "- The execution of DFS provides the complete `edgeto` structure, which allows generating the route tree of the connected component, the DFS Tree."
   ]
  },
  {
   "cell_type": "code",
   "execution_count": 16,
   "id": "9ba8f892-2fba-40ba-82b1-37d286ca07ba",
   "metadata": {},
   "outputs": [
    {
     "name": "stdout",
     "output_type": "stream",
     "text": [
      "0\n",
      "2\n",
      "1\n",
      "3\n",
      "5\n",
      "4\n"
     ]
    }
   ],
   "source": [
    "dfs(graph,\"0\")"
   ]
  },
  {
   "cell_type": "markdown",
   "id": "4851aa01-489f-4b6b-85b7-0c49824c0a43",
   "metadata": {},
   "source": [
    "\n",
    "\n",
    "- To obtain all the routes, the `route` function  was executed with the `edgeto` obtained for each node, storing this result in the `routes` dictionary, which allows knowing the route from the origin to each node.\n"
   ]
  },
  {
   "cell_type": "code",
   "execution_count": 17,
   "id": "f4ed302e-be35-40bd-9182-a1c50d5ac8d3",
   "metadata": {},
   "outputs": [
    {
     "data": {
      "text/plain": [
       "{'0': '', '1': '2', '2': '0', '3': '2', '4': '3', '5': '3'}"
      ]
     },
     "execution_count": 17,
     "metadata": {},
     "output_type": "execute_result"
    }
   ],
   "source": [
    "edgeto"
   ]
  },
  {
   "cell_type": "code",
   "execution_count": null,
   "id": "abe019a0-ee30-41bb-9f38-d31483c2feee",
   "metadata": {},
   "outputs": [
    {
     "data": {
      "text/plain": [
       "{'0': ['0'],\n",
       " '1': ['0', '2', '1'],\n",
       " '2': ['0', '2'],\n",
       " '3': ['0', '2', '3'],\n",
       " '4': ['0', '2', '3', '4'],\n",
       " '5': ['0', '2', '3', '5']}"
      ]
     },
     "execution_count": 18,
     "metadata": {},
     "output_type": "execute_result"
    }
   ],
   "source": [
    "rutas={nodo:ruta_DFS(nodo,edgeto) for nodo in edgeto.keys()}\n",
    "rutas"
   ]
  },
  {
   "cell_type": "markdown",
   "id": "95c5038b-324c-4008-a2b3-106a1d5a8d08",
   "metadata": {},
   "source": [
    "```{mermaid}\n",
    "graph TD\n",
    " 0 --> 2\n",
    " 2 --> 1\n",
    " 2 --> 3\n",
    " 3 --> 4\n",
    " 3 --> 5\n",
    "```"
   ]
  }
 ],
 "metadata": {
  "kernelspec": {
   "display_name": "Python 3 (ipykernel)",
   "language": "python",
   "name": "python3"
  },
  "language_info": {
   "codemirror_mode": {
    "name": "ipython",
    "version": 3
   },
   "file_extension": ".py",
   "mimetype": "text/x-python",
   "name": "python",
   "nbconvert_exporter": "python",
   "pygments_lexer": "ipython3",
   "version": "3.9.12"
  }
 },
 "nbformat": 4,
 "nbformat_minor": 5
}
